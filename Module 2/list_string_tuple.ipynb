{
 "cells": [
  {
   "cell_type": "code",
   "execution_count": null,
   "id": "59fc5db0",
   "metadata": {},
   "outputs": [
    {
     "data": {
      "text/plain": [
       "'hello my name is ved prakash '"
      ]
     },
     "metadata": {},
     "output_type": "display_data"
    },
    {
     "name": "stdout",
     "output_type": "stream",
     "text": [
      "HELLO MY NAME IS VED PRAKASH \n",
      "Hello my name is ved Prakash Kushwaha \n",
      "False\n"
     ]
    }
   ],
   "source": [
    "string_name=\"Hello my name is ved prakash \"\n",
    "# lets apply some operation on it\n",
    "\n",
    "# to get charactor in lower case\n",
    "from IPython.display import display\n",
    "display(string_name.lower())\n",
    "\n",
    "# to get all char in upper case\n",
    "print(string_name.upper())\n",
    "\n",
    "# to replace some char\n",
    "print(string_name.replace(\"prakash\",\"Prakash Kushwaha\"))\n",
    "\n",
    "# to check that if the string starts with or not\n",
    "print(string_name.startswith(\"hello\")) # it is case sesitive \n",
    "\n"
   ]
  },
  {
   "cell_type": "code",
   "execution_count": null,
   "id": "110c81da",
   "metadata": {},
   "outputs": [],
   "source": []
  }
 ],
 "metadata": {
  "kernelspec": {
   "display_name": "Python 3",
   "language": "python",
   "name": "python3"
  },
  "language_info": {
   "codemirror_mode": {
    "name": "ipython",
    "version": 3
   },
   "file_extension": ".py",
   "mimetype": "text/x-python",
   "name": "python",
   "nbconvert_exporter": "python",
   "pygments_lexer": "ipython3",
   "version": "3.13.5"
  }
 },
 "nbformat": 4,
 "nbformat_minor": 5
}
