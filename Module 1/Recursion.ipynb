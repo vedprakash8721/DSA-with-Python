{
 "cells": [
  {
   "cell_type": "code",
   "execution_count": 1,
   "id": "e1c7cb62",
   "metadata": {},
   "outputs": [],
   "source": [
    "# the process is which the function calls itself directly or indirectly is called recursion and the function is called recursive function."
   ]
  },
  {
   "cell_type": "code",
   "execution_count": 2,
   "id": "9516a216",
   "metadata": {},
   "outputs": [
    {
     "name": "stdout",
     "output_type": "stream",
     "text": [
      "1 2 3 4 5 \n",
      "\n",
      "-------------------------------breaking the line--------------------------------\n",
      "\n",
      "1 2 3 4 5 -------------------------------breaking the line--------------------------------\n",
      "\n"
     ]
    }
   ],
   "source": [
    "\"\"\"\n",
    "lets try to understand the difference between the recursion and loop\n",
    "\n",
    "\n",
    "\n",
    "\"\"\"\n",
    "# print from 1 to 5\n",
    "n=5\n",
    "i=1\n",
    "while i<=n:\n",
    "    print(i,end=\" \")\n",
    "    i+=1\n",
    "print(\"\\n\")\n",
    "# same with recursion\n",
    "print(\"-------------------------------breaking the line--------------------------------\\n\")\n",
    "def print_num(i,n):\n",
    "    #base case: jaha par code breake ho jata hai\n",
    "    if i>n:\n",
    "        return\n",
    "    # recursive case: jaha par function khud ko again call krta hai with updated value\n",
    "    print(i,end=\" \")\n",
    "    print_num(i+1,n)\n",
    "# calling the function\n",
    "print_num(1,5) # if you want then you can pass a variable that takes input but we are simply takig values\n",
    "print(\"-------------------------------breaking the line--------------------------------\\n\")\n",
    "    \n",
    "\n"
   ]
  },
  {
   "cell_type": "code",
   "execution_count": 3,
   "id": "8bbae695",
   "metadata": {},
   "outputs": [
    {
     "data": {
      "text/plain": [
       "' the factorial of 9 is 362880'"
      ]
     },
     "metadata": {},
     "output_type": "display_data"
    }
   ],
   "source": [
    "# Factorial of Num\n",
    "def print_fac(n):\n",
    "    if n==0:\n",
    "        return 1\n",
    "    else:\n",
    "        return n*print_fac(n-1)\n",
    "\n",
    "from IPython.display import display\n",
    "n=int(input(\" Enter the num :\"))\n",
    "x=print_fac(n)\n",
    "display(f\" the factorial of { n} is {x}\")"
   ]
  },
  {
   "cell_type": "code",
   "execution_count": 4,
   "id": "14d3cb2e",
   "metadata": {},
   "outputs": [],
   "source": [
    "# Recursive stack : it is concept of python . in this the python stores the hold value to print\n",
    "# lets see with two example"
   ]
  },
  {
   "cell_type": "code",
   "execution_count": 5,
   "id": "552873ec",
   "metadata": {},
   "outputs": [
    {
     "name": "stdout",
     "output_type": "stream",
     "text": [
      "3 2 1 "
     ]
    }
   ],
   "source": [
    "# example 1: in this we print the n first so it print and after that calls another funtion\n",
    "def fun(n):\n",
    "    if n==0:\n",
    "        return\n",
    "    print(n,end=\" \")\n",
    "    fun(n-1)\n",
    "    \n",
    "fun(3)"
   ]
  },
  {
   "cell_type": "code",
   "execution_count": 6,
   "id": "6e6d25f5",
   "metadata": {},
   "outputs": [
    {
     "name": "stdout",
     "output_type": "stream",
     "text": [
      "1 2 3 "
     ]
    }
   ],
   "source": [
    "# in this examaple we call the funtion first so without printing the value it calls funtion so the value get stored in the recursive stack \n",
    "def fun(n):\n",
    "    if n==0:\n",
    "        return\n",
    "    fun(n-1)\n",
    "    print(n,end=\" \")\n",
    "fun(3)"
   ]
  },
  {
   "cell_type": "code",
   "execution_count": 7,
   "id": "a47f078e",
   "metadata": {},
   "outputs": [
    {
     "data": {
      "text/plain": [
       "34"
      ]
     },
     "execution_count": 7,
     "metadata": {},
     "output_type": "execute_result"
    }
   ],
   "source": [
    "# recursive tree : \n",
    "# fibonacci number\n",
    "\n",
    "def fib(n):\n",
    "    # base case\n",
    "    if n==0 or n==1:\n",
    "        return n\n",
    "    # recursive case\n",
    "    else:\n",
    "        return fib(n-1)+ fib(n-2)\n",
    "    \n",
    "n= int(input(\" enter the number till you want to print fib num\"))\n",
    "fib(n)\n",
    "# counting of the fib num starts from o "
   ]
  },
  {
   "cell_type": "code",
   "execution_count": 8,
   "id": "c7defd39",
   "metadata": {},
   "outputs": [
    {
     "data": {
      "text/plain": [
       "False"
      ]
     },
     "execution_count": 8,
     "metadata": {},
     "output_type": "execute_result"
    }
   ],
   "source": [
    "# check the number that is it in form of Power of Two: that means the could be converted into power of 2 ( 2**n)\n",
    "\n",
    "def isPowerofTwo(n):\n",
    "    # base case \n",
    "    if n<=0:\n",
    "        return False\n",
    "    elif n==1:\n",
    "        return True\n",
    "    elif n%2!=0:\n",
    "        return False\n",
    "    # recursive case\n",
    "    else:\n",
    "        return isPowerofTwo(n//2)\n",
    "    \n",
    "n=int(input(\"enter the number\"))\n",
    "isPowerofTwo(n)\n"
   ]
  },
  {
   "cell_type": "code",
   "execution_count": 9,
   "id": "394dd315",
   "metadata": {},
   "outputs": [
    {
     "name": "stdout",
     "output_type": "stream",
     "text": [
      "the first num is : 65 \n",
      "the seconf num is : 68 \n",
      "the hcf of these numbers is : 1\n",
      "LCM is :  4420\n"
     ]
    }
   ],
   "source": [
    "# Greates common Divisor ( HCF)\n",
    "def hcf(a,b):\n",
    "    if b==0:\n",
    "        return a\n",
    "    else:\n",
    "        return hcf(b,a%b)\n",
    "def lcm(a,b):\n",
    "    return (a*b)//hcf(a,b)\n",
    "        \n",
    "    \n",
    "a=int(input(\"Enter the first num\"))\n",
    "b=int(input(\"Enter the second num\"))\n",
    "gcd=hcf(a,b)\n",
    "from IPython.display import display\n",
    "print(f\"the first num is : {a} \")\n",
    "print(f\"the seconf num is : {b} \")\n",
    "print( f\"the hcf of these numbers is : {gcd}\")\n",
    "print(\"LCM is : \",lcm(a,b))\n"
   ]
  }
 ],
 "metadata": {
  "kernelspec": {
   "display_name": "Python 3",
   "language": "python",
   "name": "python3"
  },
  "language_info": {
   "codemirror_mode": {
    "name": "ipython",
    "version": 3
   },
   "file_extension": ".py",
   "mimetype": "text/x-python",
   "name": "python",
   "nbconvert_exporter": "python",
   "pygments_lexer": "ipython3",
   "version": "3.13.5"
  }
 },
 "nbformat": 4,
 "nbformat_minor": 5
}
