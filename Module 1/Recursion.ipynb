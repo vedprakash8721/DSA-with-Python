{
 "cells": [
  {
   "cell_type": "code",
   "execution_count": null,
   "id": "e1c7cb62",
   "metadata": {},
   "outputs": [],
   "source": [
    "# the process is which the function calls itself directly or indirectly is called recursion and the function is called recursive function."
   ]
  },
  {
   "cell_type": "code",
   "execution_count": 6,
   "id": "9516a216",
   "metadata": {},
   "outputs": [
    {
     "name": "stdout",
     "output_type": "stream",
     "text": [
      "1 2 3 4 5 \n",
      "\n",
      "-------------------------------breaking the line--------------------------------\n",
      "\n",
      "1 2 3 4 5 "
     ]
    }
   ],
   "source": [
    "\"\"\"\n",
    "lets try to understand the difference between the recursion and loop\n",
    "\n",
    "\n",
    "\n",
    "\"\"\"\n",
    "# print from 1 to 5\n",
    "n=5\n",
    "i=1\n",
    "while i<=n:\n",
    "    print(i,end=\" \")\n",
    "    i+=1\n",
    "print(\"\\n\")\n",
    "# same with recursion\n",
    "print(\"-------------------------------breaking the line--------------------------------\\n\")\n",
    "def print_num(i,n):\n",
    "    #base case: jaha par code breake ho jata hai\n",
    "    if i>n:\n",
    "        return\n",
    "    # recursive case: jaha par function khud ko again call krta hai with updated value\n",
    "    print(i,end=\" \")\n",
    "    print_num(i+1,n)\n",
    "# calling the function\n",
    "print_num(1,5) # if you want then you can pass a variable that takes input but we are simply takig values\n"
   ]
  }
 ],
 "metadata": {
  "kernelspec": {
   "display_name": "Python 3",
   "language": "python",
   "name": "python3"
  },
  "language_info": {
   "codemirror_mode": {
    "name": "ipython",
    "version": 3
   },
   "file_extension": ".py",
   "mimetype": "text/x-python",
   "name": "python",
   "nbconvert_exporter": "python",
   "pygments_lexer": "ipython3",
   "version": "3.13.5"
  }
 },
 "nbformat": 4,
 "nbformat_minor": 5
}
