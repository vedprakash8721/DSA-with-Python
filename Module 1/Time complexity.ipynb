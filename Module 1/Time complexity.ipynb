{
 "cells": [
  {
   "cell_type": "code",
   "execution_count": 1,
   "id": "a5a22d20",
   "metadata": {},
   "outputs": [
    {
     "data": {
      "text/plain": [
       "'DSA with Python journey'"
      ]
     },
     "metadata": {},
     "output_type": "display_data"
    }
   ],
   "source": [
    "from IPython.display import display\n",
    "display(\"DSA with Python journey\")"
   ]
  },
  {
   "cell_type": "code",
   "execution_count": null,
   "id": "a1e37757",
   "metadata": {},
   "outputs": [
    {
     "name": "stdout",
     "output_type": "stream",
     "text": [
      "0\n",
      "1\n",
      "2\n",
      "3\n",
      "4\n",
      "5\n",
      "6\n",
      "7\n",
      "8\n",
      "9\n"
     ]
    }
   ],
   "source": [
    "\"\"\" Time complexity: in CS the time complexity is described as the execution time of an algo grows as the input size increases. \n",
    "it quantifies the number of operation an algo perform as a function of the input data size.\n",
    "\"\"\"\n",
    "\n",
    "# lets see with an example\n",
    "n=int(input(\"enter the num\"))\n",
    "for i in range(n):\n",
    "    print(i)\n",
    "# now when we increase the input size then the output we will increase. \n",
    "# with each input the execution time will be different"
   ]
  },
  {
   "cell_type": "code",
   "execution_count": null,
   "id": "616c9b00",
   "metadata": {},
   "outputs": [],
   "source": [
    "# Asymptotic Notations : this is notation that is used to measure time complexity \n",
    "# this is of three types\n",
    "\"\"\"\n",
    "1: Best case (omega)\n",
    "2: Average case ( theta)\n",
    "3: Worst case ( big O)\n",
    "\"\"\"\n"
   ]
  }
 ],
 "metadata": {
  "kernelspec": {
   "display_name": "Python 3",
   "language": "python",
   "name": "python3"
  },
  "language_info": {
   "codemirror_mode": {
    "name": "ipython",
    "version": 3
   },
   "file_extension": ".py",
   "mimetype": "text/x-python",
   "name": "python",
   "nbconvert_exporter": "python",
   "pygments_lexer": "ipython3",
   "version": "3.13.5"
  }
 },
 "nbformat": 4,
 "nbformat_minor": 5
}
